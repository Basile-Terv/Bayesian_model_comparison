{
 "cells": [
  {
   "cell_type": "code",
   "execution_count": 1,
   "metadata": {},
   "outputs": [],
   "source": [
    "from colors import *"
   ]
  },
  {
   "cell_type": "code",
   "execution_count": 2,
   "metadata": {},
   "outputs": [
    {
     "name": "stderr",
     "output_type": "stream",
     "text": [
      "<ipython-input-2-9b0af1ce2d88>:3: MatplotlibDeprecationWarning: Support for setting the 'text.latex.preamble' or 'pgf.preamble' rcParam to a list of strings is deprecated since 3.3 and will be removed two minor releases later; set it to a single string instead.\n",
      "  rc('text.latex', preamble=[r'\\usepackage{sansmath}', r'\\sansmath']) #r'\\usepackage{DejaVuSans}'\n"
     ]
    }
   ],
   "source": [
    "from matplotlib import rc\n",
    "rc('text', usetex=True)\n",
    "rc('text.latex', preamble=[r'\\usepackage{sansmath}', r'\\sansmath']) #r'\\usepackage{DejaVuSans}'\n",
    "rc('font',**{'family':'sans-serif','sans-serif':['DejaVu Sans']})\n",
    "\n",
    "rc('xtick.major', pad=12)\n",
    "rc('ytick.major', pad=12)\n",
    "rc('grid', linewidth=1.3)\n"
   ]
  },
  {
   "cell_type": "code",
   "execution_count": 3,
   "metadata": {},
   "outputs": [],
   "source": [
    "import matplotlib.pyplot as plt\n",
    "import numpy as np\n",
    "\n",
    "np.random.seed(2)\n",
    "num_samples = 1000\n",
    "xx = np.random.normal(loc=0.0, scale=1.0, size=num_samples) + 1.0\n",
    "\n",
    "train_xx = xx[:40]\n",
    "test_xx = xx[40:]"
   ]
  },
  {
   "cell_type": "code",
   "execution_count": 4,
   "metadata": {},
   "outputs": [],
   "source": [
    "def get_log_ml(x, alpha_2, mu):\n",
    "    N = len(x)\n",
    "    cov_mat = np.eye(N) + alpha_2 * np.ones((N, N))\n",
    "    inv_cov = np.eye(N) - np.ones((N, N)) / (1/alpha_2 + N)\n",
    "    log_ml = - N/2 * np.log(2 * np.pi) - 0.5 * np.log(np.linalg.det(cov_mat))\n",
    "    log_ml += -0.5 * np.matmul(np.matmul((x - mu).T, inv_cov), (x - mu))\n",
    "    \n",
    "    return log_ml"
   ]
  },
  {
   "cell_type": "code",
   "execution_count": 272,
   "metadata": {},
   "outputs": [],
   "source": [
    "def get_likelihood(xx_train, xx_test, alpha2):\n",
    "    N = len(xx_train)\n",
    "    map_mean = xx_train.mean() / (1/alpha2 + N)\n",
    "    log_lik = - N/2 * np.log(2 * np.pi) - 0.5 * ((xx_test - map_mean)**2).sum()\n",
    "    return log_lik \n",
    "\n",
    "\n",
    "def get_pos_dist(xx_train, alpha_2, mu):\n",
    "    N = len(xx_train)\n",
    "    pos_mean = 1/ (1/alpha_2 + N) * (xx_train.sum() + mu / alpha_2)\n",
    "    pos_var = 1/ (1/alpha_2 + N)\n",
    "    return pos_mean, pos_var\n",
    "\n",
    "def pred_dist(xx_train, alpha_2, mu):\n",
    "    N = len(xx_train)\n",
    "    pred_mean = (1/ (1/alpha_2 + N)) * (xx_train.sum() + mu / alpha_2)\n",
    "    pred_var = 1 + 1 / (1/alpha_2 + N)\n",
    "    return pred_mean, pred_var\n",
    "    \n",
    "def get_log_pred(x_test, x_train, alpha_2, mu):\n",
    "#     N = len(x_test)\n",
    "#     pred_mean, pred_var = pred_dist(x_train, alpha_2, mu)\n",
    "#     log_pred = - N/2 * np.log(2 * np.pi) - 0.5 * np.log(np.linalg.det(pred_var))\n",
    "#     log_pre += -0.5 * np.matmul(np.matmul((x_test - pred_var).T, np.linalg.inv(pred_var)), (x_test - pred_var))\n",
    "#     N = len(x_test)\n",
    "#     assert N==1\n",
    "    pred_mean, pred_var = pred_dist(x_train, alpha_2, mu)\n",
    "#     print(pred_mean, pred_var)\n",
    "    log_pred = - 0.5 * np.log(2 * np.pi) - 0.5 * np.log(pred_var)\n",
    "    log_pred -= 0.5/pred_var * ((x_test - pred_mean)**2)\n",
    "    \n",
    "    return log_pred.sum()"
   ]
  },
  {
   "cell_type": "code",
   "execution_count": 343,
   "metadata": {},
   "outputs": [],
   "source": [
    "import seaborn as sns\n",
    "\n",
    "sns.set_style(\"whitegrid\")\n",
    "\n",
    "mu = 0.0\n",
    "# mu = np.mean(train_xx) + 0. \n",
    "\n",
    "mll = []\n",
    "pos_means = []\n",
    "pos_vars = []\n",
    "pred_means = []\n",
    "pred_vars = []\n",
    "pred_ll = []\n",
    "\n",
    "alpha_range = np.arange(0.1, 1000, 0.1)\n",
    "# alpha_range = np.arange(0.1, 1, 0.01)\n",
    "\n",
    "for alpha2 in alpha_range:\n",
    "    mll.append(get_log_ml(train_xx, alpha2, mu=mu))\n",
    "    pos_m, pos_v = get_pos_dist(train_xx, alpha2, mu)\n",
    "    pred_m, pred_v = pred_dist(train_xx, alpha2, mu)\n",
    "    pos_means.append(pos_m)\n",
    "    pos_vars.append(pos_v)\n",
    "    pred_means.append(pred_m)\n",
    "    pred_vars.append(pred_v)\n",
    "#     pred_ll.append(get_log_pred(test_xx[6], train_xx, alpha2, mu))\n",
    "    pred_ll.append(get_log_pred(test_xx, train_xx, alpha2, mu))"
   ]
  },
  {
   "cell_type": "code",
   "execution_count": 347,
   "metadata": {},
   "outputs": [
    {
     "data": {
      "image/png": "[encoded data removed]",
      "text/plain": [
       "<Figure size 216x216 with 1 Axes>"
      ]
     },
     "metadata": {},
     "output_type": "display_data"
    }
   ],
   "source": [
    "from matplotlib.ticker import StrMethodFormatter\n",
    "\n",
    "fig, ax = plt.subplots(figsize=(3, 3))\n",
    "cmap = sns.cubehelix_palette(as_cmap=True)\n",
    "\n",
    "\n",
    "plt.plot(alpha_range, mll, color=color12, lw=3)\n",
    "plt.xlabel(r'Prior variance $\\sigma^2$',fontsize=18)\n",
    "plt.ylabel(r'MLL',fontsize=18)\n",
    "# ax.set_yticks([-79, -77, -75, -73])\n",
    "plt.yticks(fontsize=14)\n",
    "plt.xticks(fontsize=14)\n",
    "plt.xscale(\"log\")\n",
    "\n",
    "# plt.savefig('../../Papers/marginal_likelihood/figures/generative_model/mll.pdf', bbox_inches=\"tight\")\n",
    "plt.show()"
   ]
  },
  {
   "cell_type": "code",
   "execution_count": 348,
   "metadata": {},
   "outputs": [
    {
     "data": {
      "image/png": "[encoded data removed]",
      "text/plain": [
       "<Figure size 216x216 with 1 Axes>"
      ]
     },
     "metadata": {},
     "output_type": "display_data"
    }
   ],
   "source": [
    "from matplotlib.ticker import StrMethodFormatter\n",
    "\n",
    "fig, ax = plt.subplots(figsize=(3, 3))\n",
    "cmap = sns.cubehelix_palette(as_cmap=True)\n",
    "\n",
    "\n",
    "plt.plot(alpha_range, pred_ll, color=color5, lw=3)\n",
    "plt.xlabel(r'Prior variance $\\sigma^2$',fontsize=18)\n",
    "plt.ylabel(r'Test LL',fontsize=18)\n",
    "# ax.set_yticks([-79, -77, -75, -73])\n",
    "plt.yticks(fontsize=14)\n",
    "plt.xticks(fontsize=14)\n",
    "plt.xscale(\"log\")\n",
    "\n",
    "# plt.savefig('../../Papers/marginal_likelihood/figures/generative_model/test_ll.pdf', bbox_inches=\"tight\")\n",
    "plt.show()"
   ]
  },
  {
   "cell_type": "code",
   "execution_count": 349,
   "metadata": {},
   "outputs": [
    {
     "data": {
      "image/png": "[encoded data removed]",
      "text/plain": [
       "<Figure size 216x216 with 1 Axes>"
      ]
     },
     "metadata": {},
     "output_type": "display_data"
    }
   ],
   "source": [
    "from matplotlib.ticker import StrMethodFormatter\n",
    "\n",
    "fig, ax = plt.subplots(figsize=(3, 3))\n",
    "cmap = sns.cubehelix_palette(as_cmap=True)\n",
    "\n",
    "\n",
    "plt.plot(alpha_range, pred_means, label=r\"Predictive $\\mu$\", color=color2, lw=3)\n",
    "plt.xlabel(r'Prior variance $\\sigma^2$',fontsize=18)\n",
    "plt.ylabel(r'Predictive mean',fontsize=18)\n",
    "# ax.set_yticks([-79, -77, -75, -73])\n",
    "plt.yticks(fontsize=14)\n",
    "plt.xticks(fontsize=14)\n",
    "plt.xscale(\"log\")\n",
    "\n",
    "# plt.savefig('../../Papers/marginal_likelihood/figures/generative_model/predictive_mu.pdf', bbox_inches=\"tight\")\n",
    "plt.show()"
   ]
  },
  {
   "cell_type": "code",
   "execution_count": 350,
   "metadata": {},
   "outputs": [
    {
     "data": {
      "image/png": "[encoded data removed]",
      "text/plain": [
       "<Figure size 216x216 with 1 Axes>"
      ]
     },
     "metadata": {},
     "output_type": "display_data"
    }
   ],
   "source": [
    "from matplotlib.ticker import StrMethodFormatter\n",
    "\n",
    "fig, ax = plt.subplots(figsize=(3, 3))\n",
    "cmap = sns.cubehelix_palette(as_cmap=True)\n",
    "\n",
    "\n",
    "plt.plot(alpha_range, pred_vars, label=r\"Predictive $\\mu$\", color=color3, lw=3)\n",
    "plt.xlabel(r'Prior variance $\\sigma^2$',fontsize=18)\n",
    "plt.ylabel(r'Predictive variance',fontsize=18)\n",
    "# ax.set_yticks([-79, -77, -75, -73])\n",
    "plt.yticks(fontsize=14)\n",
    "plt.xticks(fontsize=14)\n",
    "plt.xscale(\"log\")\n",
    "\n",
    "# plt.savefig('../../Papers/marginal_likelihood/figures/generative_model/predictive_sigma.pdf', bbox_inches=\"tight\")\n",
    "plt.show()"
   ]
  },
  {
   "cell_type": "code",
   "execution_count": 365,
   "metadata": {},
   "outputs": [
    {
     "data": {
      "image/png": "[encoded data removed]",
      "text/plain": [
       "<Figure size 158.4x216 with 2 Axes>"
      ]
     },
     "metadata": {},
     "output_type": "display_data"
    }
   ],
   "source": [
    "from matplotlib.ticker import StrMethodFormatter\n",
    "\n",
    "fig, ax = plt.subplots(figsize=(2.2, 3))\n",
    "cmap = sns.cubehelix_palette(as_cmap=True)\n",
    "# color1 = sns.color_palette(\"Paired\")[1]\n",
    "# color2 = sns.color_palette(\"Paired\")[5]\n",
    "\n",
    "\n",
    "l1 = ax.plot(alpha_range, mll, label=\"LML\", color=sanae_colors[4], lw=3)\n",
    "ax.set_xlabel(r'Prior variance $\\sigma^2$', fontsize=18)\n",
    "ax.set_yticks([-61, -62, -63])\n",
    "ax.set_ylim(-63.5, -60)\n",
    "ax.set_ylabel(\"LML\", fontsize=16, color=sanae_colors[5])\n",
    "plt.yticks(color=sanae_colors[5])\n",
    "\n",
    "ax2=ax.twinx()\n",
    "l2 = ax2.plot(alpha_range, pred_ll, color=sanae_colors[1], label=\"Predictive LL\", lw=3)\n",
    "plt.gca().yaxis.set_major_formatter(StrMethodFormatter('{x:,.2f}')) # 2 decimal places\n",
    "plt.yticks(color=sanae_colors[2])\n",
    "lns = l1+l2\n",
    "labs = [l.get_label() for l in lns]\n",
    "ax2.set_yticks([-1380, -1379, -1378])\n",
    "ax2.set_yticklabels([\"-1380\", \"-1379\", \"-1378\"], rotation=-45)\n",
    "ax2.set_ylim(-1380.5, -1377)\n",
    "ax2.set_ylabel(\"Test LL\", fontsize=16, color=sanae_colors[2])\n",
    "\n",
    "ax.set_xticks([0, 500, 1000])\n",
    "ax.tick_params(axis='both', which='major', labelsize=14, pad=0)\n",
    "ax2.tick_params(axis='both', which='major', labelsize=14, pad=0)\n",
    "# ax2.legend(lns, labs, loc=1, prop={'size': 18}, framealpha=1.)\n",
    "\n",
    "plt.savefig('../../Papers/marginal_likelihood/figures/generative_model/gen_model_mll.pdf', bbox_inches=\"tight\")\n",
    "plt.show()"
   ]
  },
  {
   "cell_type": "code",
   "execution_count": 342,
   "metadata": {},
   "outputs": [
    {
     "name": "stdout",
     "output_type": "stream",
     "text": [
      "mll,  -60.74\n",
      "pred,  (0.762007728010801, 1.024390243902439)\n",
      "mll,  -66.94\n",
      "pred,  (0.7910579264346228, 1.024999999375)\n",
      "mll,  -66.32\n",
      "pred,  (0.477621626155526, 1.018421052631579)\n"
     ]
    },
    {
     "data": {
      "image/png": "[encoded data removed]",
      "text/plain": [
       "<Figure size 288x144 with 1 Axes>"
      ]
     },
     "metadata": {},
     "output_type": "display_data"
    }
   ],
   "source": [
    "import scipy\n",
    "fig, ax = plt.subplots(figsize=(4., 2))\n",
    "# col1 = sns.color_palette(\"Paired\")[7]\n",
    "# col2 = sns.color_palette(\"Paired\")[3]\n",
    "val = 0. \n",
    "plt.plot(train_xx, np.zeros_like(train_xx) + val, 'o', color=sanae_colors[1], markeredgecolor=\"k\", ms=12)\n",
    "x_values = np.arange(-2, 3.5, 0.1)\n",
    "\n",
    "alpha_2 = 1.#1.e-16\n",
    "# mu = np.mean(train_xx)\n",
    "mll = np.round(get_log_ml(train_xx, alpha_2, mu),2)\n",
    "print(\"mll, \", mll)\n",
    "print(\"pred, \",  pred_dist(train_xx, alpha_2, mu))\n",
    "\n",
    "pred_m, pred_v = pred_dist(train_xx, alpha_2, mu)\n",
    "y_values = scipy.stats.norm(pred_m, pred_v)\n",
    "plt.plot(x_values, y_values.pdf(x_values),\n",
    "         label=r\"$\\mathcal{M}_{MML}$: LML=$-60.8$\",\n",
    "         color=\"k\", linestyle=\"dashed\", lw=3, zorder=3)\n",
    "\n",
    "\n",
    "alpha_2 = 1e6\n",
    "mu = 1.0\n",
    "mll = np.round(get_log_ml(train_xx, alpha_2, mu),2)\n",
    "print(\"mll, \", mll)\n",
    "print(\"pred, \",  pred_dist(train_xx, alpha_2, mu))\n",
    "pred_m, pred_v = pred_dist(train_xx, alpha_2, mu)\n",
    "y_values = scipy.stats.norm(pred_m, pred_v)\n",
    "# plt.plot(x_values, y_values.pdf(x_values),\n",
    "#          label=r\"$\\mathcal{M}_2: \\sigma^2 = 10^6$, $\\mu=1$, MLL=$-66.9$\",\n",
    "#          color=color5, lw=3)\n",
    "plt.fill_between(x_values,\n",
    "                 y_values.pdf(x_values),\n",
    "                 np.zeros_like(x_values),\n",
    "#                  color=color5, \n",
    "                 facecolor=sanae_colors[1],\n",
    "                 edgecolor=sanae_colors[2],\n",
    "                 label=r\"$\\mathcal{M}_1~ ^{\\sigma^2 = 10^6}_{\\mu=1}$, LML=$-66.9$\",\n",
    "                 alpha=0.6, lw=3)\n",
    "\n",
    "alpha_2 = .07\n",
    "mu = -0.4\n",
    "mll = np.round(get_log_ml(train_xx, alpha_2, mu),2)\n",
    "print(\"mll, \", mll)\n",
    "print(\"pred, \",  pred_dist(train_xx, alpha_2, mu))\n",
    "pred_m, pred_v = pred_dist(train_xx, alpha_2, mu)\n",
    "y_values = scipy.stats.norm(pred_m, pred_v)\n",
    "# plt.plot(x_values, y_values.pdf(x_values),\n",
    "#          label=r\"$\\mathcal{M}_1: \\sigma^2 = 0.07$, $\\mu=2$, MLL=$-66.5$\",\n",
    "#          color=color1, lw=3)\n",
    "plt.fill_between(x_values,\n",
    "                 y_values.pdf(x_values),\n",
    "                 np.zeros_like(x_values),\n",
    "                 facecolor=sanae_colors[4],\n",
    "                 edgecolor=sanae_colors[5],\n",
    "                 alpha=0.6, lw=3,\n",
    "                 label=r\"$\\mathcal{M}_2~ ^{\\sigma^2 = 0.07}_{\\mu=-0.4}$, LML=$-66.3$\",\n",
    "                )\n",
    "\n",
    "plt.vlines(np.mean(train_xx), 0, 0.4, linestyle=\"dotted\", color=color2, label=\"Empirical mean\", lw=3)\n",
    "\n",
    "plt.ylim(-0.05, 0.5)\n",
    "ax.set_xlabel(r'$x$',fontsize=20)\n",
    "# plt.plot([pred_m, pred_m], [0.0, y_values.pdf(x_values).max()], color=col2)\n",
    "plt.xticks(fontsize=16)\n",
    "plt.yticks(fontsize=16)\n",
    "plt.legend(fontsize=19, framealpha=1., bbox_to_anchor=(-.18,2.3), loc=\"upper left\") #(0.))\n",
    "plt.ylabel(r\"$p(x)$\", fontsize=20)\n",
    "\n",
    "# plt.tight_layout()\n",
    "plt.savefig('../../Papers/marginal_likelihood/figures/generative_model/gen_model_mismatch.pdf',\n",
    "            bbox_inches=\"tight\")\n",
    "plt.show()"
   ]
  },
  {
   "cell_type": "markdown",
   "metadata": {},
   "source": [
    "## Learning curve"
   ]
  },
  {
   "cell_type": "code",
   "execution_count": 273,
   "metadata": {},
   "outputs": [
    {
     "data": {
      "text/plain": [
       "0.9588622374545618"
      ]
     },
     "execution_count": 273,
     "metadata": {},
     "output_type": "execute_result"
    }
   ],
   "source": [
    "test_xx.mean()"
   ]
  },
  {
   "cell_type": "code",
   "execution_count": 274,
   "metadata": {},
   "outputs": [
    {
     "data": {
      "text/plain": [
       "array([ 0.58324215,  0.94373317, -1.1361961 ,  2.64027081, -0.79343559,\n",
       "        0.15825263,  1.50288142, -0.24528809, -0.05795222,  0.09099239,\n",
       "        1.55145404,  3.29220801,  1.04153939, -0.11792545,  1.53905832,\n",
       "        0.4038403 ,  0.9808695 ,  2.17500122,  0.25212905,  1.00902525,\n",
       "        0.12189211,  0.84356583,  1.25657045,  0.01122095,  0.66117803,\n",
       "        0.76381597,  0.36234499, -0.18761229, -0.42121723,  0.8465048 ,\n",
       "        0.73094304,  3.23136679, -1.43476758,  1.1127265 ,  1.37044454,\n",
       "        2.35963386,  1.50185721,  0.1557863 ,  1.00000976,  1.54235257])"
      ]
     },
     "execution_count": 274,
     "metadata": {},
     "output_type": "execute_result"
    }
   ],
   "source": [
    "train_xx"
   ]
  },
  {
   "cell_type": "code",
   "execution_count": 275,
   "metadata": {},
   "outputs": [
    {
     "data": {
      "text/plain": [
       "-1.515105099674512"
      ]
     },
     "execution_count": 275,
     "metadata": {},
     "output_type": "execute_result"
    }
   ],
   "source": [
    "get_log_pred(test_xx, train_xx[:5], 1., train_xx.mean()) / len(test_xx)"
   ]
  },
  {
   "cell_type": "code",
   "execution_count": 276,
   "metadata": {},
   "outputs": [
    {
     "data": {
      "text/plain": [
       "-7.826694815542727"
      ]
     },
     "execution_count": 276,
     "metadata": {},
     "output_type": "execute_result"
    }
   ],
   "source": [
    "get_log_pred(test_xx, train_xx[:0], 1.e6, 1.0) / len(test_xx)"
   ]
  },
  {
   "cell_type": "code",
   "execution_count": 277,
   "metadata": {},
   "outputs": [
    {
     "data": {
      "text/plain": [
       "-2.416926762676778"
      ]
     },
     "execution_count": 277,
     "metadata": {},
     "output_type": "execute_result"
    }
   ],
   "source": [
    "get_log_pred(test_xx, train_xx[:0], .07, -.5) / len(test_xx)"
   ]
  },
  {
   "cell_type": "code",
   "execution_count": 278,
   "metadata": {},
   "outputs": [],
   "source": [
    "def get_learning_curve(alpha_2, mu, n_orders=100):\n",
    "    order_lls = []\n",
    "    for _ in range(n_orders):\n",
    "        order = np.arange(len(train_xx))\n",
    "        np.random.shuffle(order)\n",
    "        order_lls.append(\n",
    "            np.array([get_log_pred(test_xx, train_xx[order[:i]], alpha_2, mu).copy() / len(test_xx)\n",
    "             for i in range(len(order))]))\n",
    "    return np.stack(order_lls)"
   ]
  },
  {
   "cell_type": "code",
   "execution_count": 286,
   "metadata": {},
   "outputs": [],
   "source": [
    "# M_MML\n",
    "alpha_2 = 1.#e-16\n",
    "mu = np.mean(train_xx)\n",
    "mml_learning_curve = get_learning_curve(alpha_2, mu).mean(axis=0)\n",
    "\n",
    "# M_1\n",
    "alpha_2 = 1e6\n",
    "mu = 1.0\n",
    "m1_learning_curve = get_learning_curve(alpha_2, mu).mean(axis=0)\n",
    "\n",
    "# M_2\n",
    "alpha_2 = .07\n",
    "mu = -0.4\n",
    "m2_learning_curve = get_learning_curve(alpha_2, mu).mean(axis=0)"
   ]
  },
  {
   "cell_type": "code",
   "execution_count": 287,
   "metadata": {},
   "outputs": [],
   "source": [
    "# mml_learning_curve[0, :] - mml_learning_curve[1, :]"
   ]
  },
  {
   "cell_type": "code",
   "execution_count": 377,
   "metadata": {},
   "outputs": [
    {
     "data": {
      "image/png": "[encoded data removed]",
      "text/plain": [
       "<Figure size 216x216 with 1 Axes>"
      ]
     },
     "metadata": {},
     "output_type": "display_data"
    }
   ],
   "source": [
    "f = plt.figure(figsize=(3., 3.))\n",
    "\n",
    "plt.plot(mml_learning_curve, \"--k\", label=r\"$\\mathcal{M}_{MML}$\", lw=4, zorder=4)\n",
    "plt.plot(m1_learning_curve, label=r\"$\\mathcal{M}_1$\", lw=4, color=sanae_colors[2])\n",
    "plt.plot(m2_learning_curve, label=r\"$\\mathcal{M}_2$\", lw=4, color=sanae_colors[3])\n",
    "leg = plt.legend(handlelength=2, fontsize=18, loc=4)\n",
    "for legobj in leg.legendHandles:\n",
    "    legobj.set_linewidth(4)\n",
    "\n",
    "f.get_axes()[0].tick_params(axis='both', which='major', labelsize=14)\n",
    "plt.xlim(-1, 40)\n",
    "plt.ylim(-4, -1)\n",
    "plt.ylabel(r\"$p(\\mathcal{D}_n \\vert \\mathcal D_{<n})$\", fontsize=18)\n",
    "plt.xlabel(r\"Number of datapoints, $n$\", fontsize=18)\n",
    "\n",
    "plt.savefig(\"../../Papers/marginal_likelihood/figures/generative_model/learning_curve.pdf\",\n",
    "           bbox_inches=\"tight\")"
   ]
  },
  {
   "cell_type": "code",
   "execution_count": 288,
   "metadata": {
    "scrolled": true
   },
   "outputs": [
    {
     "data": {
      "text/plain": [
       "Text(0.5, 0, 'Number of data points')"
      ]
     },
     "execution_count": 288,
     "metadata": {},
     "output_type": "execute_result"
    },
    {
     "data": {
      "image/png": "[encoded data removed]",
      "text/plain": [
       "<Figure size 216x216 with 1 Axes>"
      ]
     },
     "metadata": {},
     "output_type": "display_data"
    }
   ],
   "source": [
    "plt.figure(figsize=(3, 3))\n",
    "plt.plot(mml_learning_curve, label=\"$\\mathcal{M}_{MML}$\", lw=3)\n",
    "plt.plot(m1_learning_curve, label=\"$\\mathcal{M}_1$\", lw=3)\n",
    "plt.plot(m2_learning_curve, label=\"$\\mathcal{M}_2$\", lw=3)\n",
    "plt.legend(fontsize=16)\n",
    "# plt.ylim(-.6, -.42)\n",
    "plt.ylabel(\"$\\log p(\\mathcal{D}_n | \\mathcal{D}_{<n}$)\", fontsize=14)\n",
    "plt.xlabel(\"Number of data points\", fontsize=14)"
   ]
  },
  {
   "cell_type": "code",
   "execution_count": 157,
   "metadata": {},
   "outputs": [
    {
     "data": {
      "text/plain": [
       "array([-4.99999549e+05, -5.23565200e-01, -4.33785425e-01, -4.30575678e-01,\n",
       "       -4.36986346e-01, -4.44039048e-01, -4.50267682e-01, -4.55534660e-01,\n",
       "       -4.59962037e-01, -4.63702443e-01, -4.66889097e-01, -4.69628857e-01,\n",
       "       -4.72005419e-01, -4.74084116e-01, -4.75916194e-01, -4.77542167e-01,\n",
       "       -4.78994364e-01, -4.80298830e-01, -4.81476738e-01, -4.82545460e-01,\n",
       "       -4.83519364e-01, -4.84410431e-01, -4.85228721e-01, -4.85982743e-01,\n",
       "       -4.86679739e-01, -4.87325909e-01, -4.87926589e-01, -4.88486400e-01,\n",
       "       -4.89009358e-01, -4.89498973e-01, -4.89958326e-01, -4.90390128e-01,\n",
       "       -4.90796779e-01, -4.91180408e-01, -4.91542912e-01, -4.91885984e-01,\n",
       "       -4.92211143e-01, -4.92519753e-01, -4.92813044e-01, -4.93092127e-01])"
      ]
     },
     "execution_count": 157,
     "metadata": {},
     "output_type": "execute_result"
    }
   ],
   "source": [
    "m1_learning_curve"
   ]
  },
  {
   "cell_type": "code",
   "execution_count": 137,
   "metadata": {},
   "outputs": [
    {
     "name": "stdout",
     "output_type": "stream",
     "text": [
      "mll,  -71.93\n",
      "pred,  (0.9945932862670096, 1.0196078431372548)\n"
     ]
    },
    {
     "data": {
      "text/plain": [
       "0.9945932862670096"
      ]
     },
     "execution_count": 137,
     "metadata": {},
     "output_type": "execute_result"
    }
   ],
   "source": [
    "alpha_2 = 1.0\n",
    "mu = 2.0\n",
    "mll = np.round(get_log_ml(train_xx, alpha_2, mu),2)\n",
    "print(\"mll, \", mll)\n",
    "print(\"pred, \",  pred_dist(train_xx, alpha_2, mu))\n",
    "x_values = np.arange(-2, 6, 0.1)\n",
    "pred_m, pred_v = pred_dist(train_xx, alpha_2, mu)\n",
    "pred_m"
   ]
  },
  {
   "cell_type": "code",
   "execution_count": 433,
   "metadata": {},
   "outputs": [],
   "source": [
    "alpha_mlls = {\n",
    "    alpha: [] for alpha in [0.6, 10., 1.e6]\n",
    "}\n",
    "all_mlls = []\n",
    "n_orders = 100\n",
    "\n",
    "for alpha_2 in alpha_mlls:\n",
    "    for order in range(n_orders):\n",
    "        order = np.arange(len(train_xx))\n",
    "        np.random.shuffle(order)\n",
    "        x_ = train_xx[order]\n",
    "        mlls = np.array([\n",
    "            get_log_ml(x_[:i], alpha_2, 0.) for i in range(1, len(x_))])\n",
    "        alpha_mlls[alpha_2].append(mlls)\n",
    "    alpha_mlls[alpha_2] = np.array(alpha_mlls[alpha_2])"
   ]
  },
  {
   "cell_type": "code",
   "execution_count": 434,
   "metadata": {},
   "outputs": [],
   "source": [
    "np.savez(\"data/mll_gen.npz\",\n",
    "        **{str(k): v for (k, v) in alpha_mlls.items()})"
   ]
  },
  {
   "cell_type": "code",
   "execution_count": 432,
   "metadata": {},
   "outputs": [
    {
     "data": {
      "text/plain": [
       "(1000, 39)"
      ]
     },
     "execution_count": 432,
     "metadata": {},
     "output_type": "execute_result"
    }
   ],
   "source": [
    "alpha_mlls[0.6].shape"
   ]
  }
 ],
 "metadata": {
  "kernelspec": {
   "display_name": "Python 3",
   "language": "python",
   "name": "python3"
  },
  "language_info": {
   "codemirror_mode": {
    "name": "ipython",
    "version": 3
   },
   "file_extension": ".py",
   "mimetype": "text/x-python",
   "name": "python",
   "nbconvert_exporter": "python",
   "pygments_lexer": "ipython3",
   "version": "3.7.6"
  }
 },
 "nbformat": 4,
 "nbformat_minor": 4
}
