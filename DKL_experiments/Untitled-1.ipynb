{
 "cells": [
  {
   "cell_type": "code",
   "execution_count": 1,
   "metadata": {},
   "outputs": [
    {
     "ename": "NameError",
     "evalue": "name '__file__' is not defined",
     "output_type": "error",
     "traceback": [
      "\u001b[0;31m---------------------------------------------------------------------------\u001b[0m",
      "\u001b[0;31mNameError\u001b[0m                                 Traceback (most recent call last)",
      "Cell \u001b[0;32mIn[1], line 5\u001b[0m\n\u001b[1;32m      2\u001b[0m \u001b[38;5;28;01mimport\u001b[39;00m \u001b[38;5;21;01mos\u001b[39;00m\n\u001b[1;32m      4\u001b[0m cfg \u001b[38;5;241m=\u001b[39m configparser\u001b[38;5;241m.\u001b[39mConfigParser()\n\u001b[0;32m----> 5\u001b[0m dirs \u001b[38;5;241m=\u001b[39m [os\u001b[38;5;241m.\u001b[39mcurdir, os\u001b[38;5;241m.\u001b[39mpath\u001b[38;5;241m.\u001b[39mdirname(os\u001b[38;5;241m.\u001b[39mpath\u001b[38;5;241m.\u001b[39mrealpath(\u001b[38;5;18;43m__file__\u001b[39;49m)),\n\u001b[1;32m      6\u001b[0m         os\u001b[38;5;241m.\u001b[39mpath\u001b[38;5;241m.\u001b[39mjoin(os\u001b[38;5;241m.\u001b[39mpath\u001b[38;5;241m.\u001b[39mdirname(os\u001b[38;5;241m.\u001b[39mpath\u001b[38;5;241m.\u001b[39mrealpath(\u001b[38;5;18m__file__\u001b[39m)), \u001b[38;5;124m'\u001b[39m\u001b[38;5;124m..\u001b[39m\u001b[38;5;124m'\u001b[39m)]\n\u001b[1;32m      7\u001b[0m locations \u001b[38;5;241m=\u001b[39m \u001b[38;5;28mmap\u001b[39m(os\u001b[38;5;241m.\u001b[39mpath\u001b[38;5;241m.\u001b[39mabspath, dirs)\n\u001b[1;32m      9\u001b[0m \u001b[38;5;28;01mfor\u001b[39;00m loc \u001b[38;5;129;01min\u001b[39;00m locations:\n",
      "\u001b[0;31mNameError\u001b[0m: name '__file__' is not defined"
     ]
    }
   ],
   "source": [
    "from six.moves import configparser\n",
    "import os\n",
    "\n",
    "cfg = configparser.ConfigParser()\n",
    "dirs = [os.curdir, os.path.dirname(os.path.realpath(__file__)),\n",
    "        os.path.join(os.path.dirname(os.path.realpath(__file__)), '..')]\n",
    "locations = map(os.path.abspath, dirs)\n",
    "\n",
    "for loc in locations:\n",
    "    if cfg.read(os.path.join(loc, 'bayesian_benchmarksrc')):\n",
    "        break\n",
    "\n",
    "def expand_to_absolute(path):\n",
    "    if './' == path[:2]:\n",
    "        return os.path.join(os.path.dirname(os.path.realpath(__file__)), path[2:])\n",
    "    else:\n",
    "        return path\n",
    "\n",
    "print('paths', 'data_path')\n",
    "\n",
    "DATA_PATH = expand_to_absolute(cfg['paths']['data_path'])\n",
    "print(DATA_PATH)\n",
    "BASE_SEED = int(cfg['seeds']['seed'])\n",
    "RESULTS_DB_PATH = expand_to_absolute(cfg['paths']['results_path'])\n",
    "\n",
    "if not os.path.isdir(DATA_PATH):\n",
    "    os.mkdir(DATA_PATH)\n"
   ]
  },
  {
   "cell_type": "code",
   "execution_count": 3,
   "metadata": {},
   "outputs": [
    {
     "ename": "KeyError",
     "evalue": "'paths'",
     "output_type": "error",
     "traceback": [
      "\u001b[0;31m---------------------------------------------------------------------------\u001b[0m",
      "\u001b[0;31mKeyError\u001b[0m                                  Traceback (most recent call last)",
      "Cell \u001b[0;32mIn[3], line 20\u001b[0m\n\u001b[1;32m     17\u001b[0m     \u001b[38;5;28;01melse\u001b[39;00m:\n\u001b[1;32m     18\u001b[0m         \u001b[38;5;28;01mreturn\u001b[39;00m path\n\u001b[0;32m---> 20\u001b[0m DATA_PATH \u001b[38;5;241m=\u001b[39m expand_to_absolute(\u001b[43mcfg\u001b[49m\u001b[43m[\u001b[49m\u001b[38;5;124;43m'\u001b[39;49m\u001b[38;5;124;43mpaths\u001b[39;49m\u001b[38;5;124;43m'\u001b[39;49m\u001b[43m]\u001b[49m[\u001b[38;5;124m'\u001b[39m\u001b[38;5;124mdata_path\u001b[39m\u001b[38;5;124m'\u001b[39m])\n\u001b[1;32m     21\u001b[0m BASE_SEED \u001b[38;5;241m=\u001b[39m \u001b[38;5;28mint\u001b[39m(cfg[\u001b[38;5;124m'\u001b[39m\u001b[38;5;124mseeds\u001b[39m\u001b[38;5;124m'\u001b[39m][\u001b[38;5;124m'\u001b[39m\u001b[38;5;124mseed\u001b[39m\u001b[38;5;124m'\u001b[39m])\n\u001b[1;32m     22\u001b[0m RESULTS_DB_PATH \u001b[38;5;241m=\u001b[39m expand_to_absolute(cfg[\u001b[38;5;124m'\u001b[39m\u001b[38;5;124mpaths\u001b[39m\u001b[38;5;124m'\u001b[39m][\u001b[38;5;124m'\u001b[39m\u001b[38;5;124mresults_path\u001b[39m\u001b[38;5;124m'\u001b[39m])\n",
      "File \u001b[0;32m~/anaconda3/envs/opt_transport/lib/python3.12/configparser.py:941\u001b[0m, in \u001b[0;36mRawConfigParser.__getitem__\u001b[0;34m(self, key)\u001b[0m\n\u001b[1;32m    939\u001b[0m \u001b[38;5;28;01mdef\u001b[39;00m \u001b[38;5;21m__getitem__\u001b[39m(\u001b[38;5;28mself\u001b[39m, key):\n\u001b[1;32m    940\u001b[0m     \u001b[38;5;28;01mif\u001b[39;00m key \u001b[38;5;241m!=\u001b[39m \u001b[38;5;28mself\u001b[39m\u001b[38;5;241m.\u001b[39mdefault_section \u001b[38;5;129;01mand\u001b[39;00m \u001b[38;5;129;01mnot\u001b[39;00m \u001b[38;5;28mself\u001b[39m\u001b[38;5;241m.\u001b[39mhas_section(key):\n\u001b[0;32m--> 941\u001b[0m         \u001b[38;5;28;01mraise\u001b[39;00m \u001b[38;5;167;01mKeyError\u001b[39;00m(key)\n\u001b[1;32m    942\u001b[0m     \u001b[38;5;28;01mreturn\u001b[39;00m \u001b[38;5;28mself\u001b[39m\u001b[38;5;241m.\u001b[39m_proxies[key]\n",
      "\u001b[0;31mKeyError\u001b[0m: 'paths'"
     ]
    }
   ],
   "source": [
    "import os\n",
    "import sys\n",
    "import configparser\n",
    "\n",
    "cfg = configparser.ConfigParser()\n",
    "dirs = [os.curdir, os.path.dirname(os.path.realpath(sys.argv[0])),\n",
    "        os.path.join(os.path.dirname(os.path.realpath(sys.argv[0])), '..')]\n",
    "locations = map(os.path.abspath, dirs)\n",
    "\n",
    "for loc in locations:\n",
    "    if cfg.read(os.path.join(loc, 'bayesian_benchmarksrc')):\n",
    "        break\n",
    "\n",
    "def expand_to_absolute(path):\n",
    "    if './' == path[:2]:\n",
    "        return os.path.join(os.path.dirname(os.path.realpath(sys.argv[0])), path[2:])\n",
    "    else:\n",
    "        return path\n",
    "\n",
    "DATA_PATH = expand_to_absolute(cfg['paths']['data_path'])\n",
    "BASE_SEED = int(cfg['seeds']['seed'])\n",
    "RESULTS_DB_PATH = expand_to_absolute(cfg['paths']['results_path'])\n",
    "\n",
    "if not os.path.isdir(DATA_PATH):\n",
    "    os.mkdir(DATA_PATH)"
   ]
  },
  {
   "cell_type": "code",
   "execution_count": null,
   "metadata": {},
   "outputs": [],
   "source": []
  }
 ],
 "metadata": {
  "kernelspec": {
   "display_name": "opt_transport",
   "language": "python",
   "name": "python3"
  },
  "language_info": {
   "codemirror_mode": {
    "name": "ipython",
    "version": 3
   },
   "file_extension": ".py",
   "mimetype": "text/x-python",
   "name": "python",
   "nbconvert_exporter": "python",
   "pygments_lexer": "ipython3",
   "version": "3.12.0"
  }
 },
 "nbformat": 4,
 "nbformat_minor": 2
}
