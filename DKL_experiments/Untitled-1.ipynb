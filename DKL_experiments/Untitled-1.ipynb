{
 "cells": [
  {
   "cell_type": "code",
   "execution_count": 2,
   "metadata": {},
   "outputs": [
    {
     "ename": "NameError",
     "evalue": "name '__file__' is not defined",
     "output_type": "error",
     "traceback": [
      "\u001b[0;31m---------------------------------------------------------------------------\u001b[0m",
      "\u001b[0;31mNameError\u001b[0m                                 Traceback (most recent call last)",
      "Cell \u001b[0;32mIn[2], line 5\u001b[0m\n\u001b[1;32m      2\u001b[0m \u001b[38;5;28;01mimport\u001b[39;00m \u001b[38;5;21;01mos\u001b[39;00m\n\u001b[1;32m      4\u001b[0m cfg \u001b[38;5;241m=\u001b[39m configparser\u001b[38;5;241m.\u001b[39mConfigParser()\n\u001b[0;32m----> 5\u001b[0m dirs \u001b[38;5;241m=\u001b[39m [os\u001b[38;5;241m.\u001b[39mcurdir, os\u001b[38;5;241m.\u001b[39mpath\u001b[38;5;241m.\u001b[39mdirname(os\u001b[38;5;241m.\u001b[39mpath\u001b[38;5;241m.\u001b[39mrealpath(\u001b[38;5;18;43m__file__\u001b[39;49m)),\n\u001b[1;32m      6\u001b[0m         os\u001b[38;5;241m.\u001b[39mpath\u001b[38;5;241m.\u001b[39mjoin(os\u001b[38;5;241m.\u001b[39mpath\u001b[38;5;241m.\u001b[39mdirname(os\u001b[38;5;241m.\u001b[39mpath\u001b[38;5;241m.\u001b[39mrealpath(\u001b[38;5;18m__file__\u001b[39m)), \u001b[38;5;124m'\u001b[39m\u001b[38;5;124m..\u001b[39m\u001b[38;5;124m'\u001b[39m)]\n\u001b[1;32m      7\u001b[0m locations \u001b[38;5;241m=\u001b[39m \u001b[38;5;28mmap\u001b[39m(os\u001b[38;5;241m.\u001b[39mpath\u001b[38;5;241m.\u001b[39mabspath, dirs)\n\u001b[1;32m      9\u001b[0m \u001b[38;5;28;01mfor\u001b[39;00m loc \u001b[38;5;129;01min\u001b[39;00m locations:\n",
      "\u001b[0;31mNameError\u001b[0m: name '__file__' is not defined"
     ]
    }
   ],
   "source": [
    "from six.moves import configparser\n",
    "import os\n",
    "\n",
    "cfg = configparser.ConfigParser()\n",
    "dirs = [os.curdir, os.path.dirname(os.path.realpath(__file__)),\n",
    "        os.path.join(os.path.dirname(os.path.realpath(__file__)), '..')]\n",
    "locations = map(os.path.abspath, dirs)\n",
    "\n",
    "for loc in locations:\n",
    "    if cfg.read(os.path.join(loc, 'bayesian_benchmarksrc')):\n",
    "        break\n",
    "\n",
    "def expand_to_absolute(path):\n",
    "    if './' == path[:2]:\n",
    "        return os.path.join(os.path.dirname(os.path.realpath(__file__)), path[2:])\n",
    "    else:\n",
    "        return path\n",
    "\n",
    "print('paths', 'data_path')\n",
    "\n",
    "DATA_PATH = expand_to_absolute(cfg['paths']['data_path'])\n",
    "print(DATA_PATH)\n",
    "BASE_SEED = int(cfg['seeds']['seed'])\n",
    "RESULTS_DB_PATH = expand_to_absolute(cfg['paths']['results_path'])\n",
    "\n",
    "if not os.path.isdir(DATA_PATH):\n",
    "    os.mkdir(DATA_PATH)\n"
   ]
  },
  {
   "cell_type": "code",
   "execution_count": 5,
   "metadata": {},
   "outputs": [
    {
     "name": "stdout",
     "output_type": "stream",
     "text": [
      "Searching for config file in: /Users/Lea/Documents/Documents_2/Documents/MVA/S2/BML/Projet/Bayesian_model_comparison/DKL_experiments/bayesian_benchmarksrc.txt\n",
      "Config file found at: /Users/Lea/Documents/Documents_2/Documents/MVA/S2/BML/Projet/Bayesian_model_comparison/DKL_experiments/bayesian_benchmarksrc.txt\n"
     ]
    }
   ],
   "source": [
    "import os\n",
    "import sys\n",
    "import configparser\n",
    "\n",
    "cfg = configparser.ConfigParser()\n",
    "dirs = [os.curdir, os.path.dirname(os.path.realpath(sys.argv[0])),\n",
    "        os.path.join(os.path.dirname(os.path.realpath(sys.argv[0])), '..')]\n",
    "locations = map(os.path.abspath, dirs)\n",
    "\n",
    "for loc in locations:\n",
    "    config_file_path = os.path.join(loc, 'bayesian_benchmarksrc.txt')\n",
    "    print(f\"Searching for config file in: {config_file_path}\")\n",
    "    if cfg.read(config_file_path):\n",
    "        print(f\"Config file found at: {config_file_path}\")\n",
    "        break\n",
    "\n",
    "def expand_to_absolute(path):\n",
    "    if './' == path[:2]:\n",
    "        return os.path.join(os.path.dirname(os.path.realpath(sys.argv[0])), path[2:])\n",
    "    else:\n",
    "        return path\n",
    "\n",
    "DATA_PATH = expand_to_absolute(cfg['paths']['data_path'])\n",
    "BASE_SEED = int(cfg['seeds']['seed'])\n",
    "RESULTS_DB_PATH = expand_to_absolute(cfg['paths']['results_path'])\n",
    "\n",
    "if not os.path.isdir(DATA_PATH):\n",
    "    os.mkdir(DATA_PATH)"
   ]
  },
  {
   "cell_type": "code",
   "execution_count": 3,
   "metadata": {},
   "outputs": [
    {
     "ename": "FileNotFoundError",
     "evalue": "[Errno 2] No such file or directory: ' /Users/Lea/Documents/Documents_2/Documents/MVA/S2/BML/Projet/Bayesian_model_comparison/DKL_experiments/saved-outputs/exactdklprotein_ntrain100_cmll_0.1m.pt'",
     "output_type": "error",
     "traceback": [
      "\u001b[0;31m---------------------------------------------------------------------------\u001b[0m",
      "\u001b[0;31mFileNotFoundError\u001b[0m                         Traceback (most recent call last)",
      "Cell \u001b[0;32mIn[3], line 2\u001b[0m\n\u001b[1;32m      1\u001b[0m \u001b[38;5;28;01mimport\u001b[39;00m \u001b[38;5;21;01mtorch\u001b[39;00m\n\u001b[0;32m----> 2\u001b[0m \u001b[43mtorch\u001b[49m\u001b[38;5;241;43m.\u001b[39;49m\u001b[43mload\u001b[49m\u001b[43m(\u001b[49m\u001b[38;5;124;43m'\u001b[39;49m\u001b[38;5;124;43m /Users/Lea/Documents/Documents_2/Documents/MVA/S2/BML/Projet/Bayesian_model_comparison/DKL_experiments/saved-outputs/exactdklprotein_ntrain100_cmll_0.1m.pt\u001b[39;49m\u001b[38;5;124;43m'\u001b[39;49m\u001b[43m)\u001b[49m\n",
      "File \u001b[0;32m~/anaconda3/envs/opt_transport/lib/python3.12/site-packages/torch/serialization.py:998\u001b[0m, in \u001b[0;36mload\u001b[0;34m(f, map_location, pickle_module, weights_only, mmap, **pickle_load_args)\u001b[0m\n\u001b[1;32m    995\u001b[0m \u001b[38;5;28;01mif\u001b[39;00m \u001b[38;5;124m'\u001b[39m\u001b[38;5;124mencoding\u001b[39m\u001b[38;5;124m'\u001b[39m \u001b[38;5;129;01mnot\u001b[39;00m \u001b[38;5;129;01min\u001b[39;00m pickle_load_args\u001b[38;5;241m.\u001b[39mkeys():\n\u001b[1;32m    996\u001b[0m     pickle_load_args[\u001b[38;5;124m'\u001b[39m\u001b[38;5;124mencoding\u001b[39m\u001b[38;5;124m'\u001b[39m] \u001b[38;5;241m=\u001b[39m \u001b[38;5;124m'\u001b[39m\u001b[38;5;124mutf-8\u001b[39m\u001b[38;5;124m'\u001b[39m\n\u001b[0;32m--> 998\u001b[0m \u001b[38;5;28;01mwith\u001b[39;00m \u001b[43m_open_file_like\u001b[49m\u001b[43m(\u001b[49m\u001b[43mf\u001b[49m\u001b[43m,\u001b[49m\u001b[43m \u001b[49m\u001b[38;5;124;43m'\u001b[39;49m\u001b[38;5;124;43mrb\u001b[39;49m\u001b[38;5;124;43m'\u001b[39;49m\u001b[43m)\u001b[49m \u001b[38;5;28;01mas\u001b[39;00m opened_file:\n\u001b[1;32m    999\u001b[0m     \u001b[38;5;28;01mif\u001b[39;00m _is_zipfile(opened_file):\n\u001b[1;32m   1000\u001b[0m         \u001b[38;5;66;03m# The zipfile reader is going to advance the current file position.\u001b[39;00m\n\u001b[1;32m   1001\u001b[0m         \u001b[38;5;66;03m# If we want to actually tail call to torch.jit.load, we need to\u001b[39;00m\n\u001b[1;32m   1002\u001b[0m         \u001b[38;5;66;03m# reset back to the original position.\u001b[39;00m\n\u001b[1;32m   1003\u001b[0m         orig_position \u001b[38;5;241m=\u001b[39m opened_file\u001b[38;5;241m.\u001b[39mtell()\n",
      "File \u001b[0;32m~/anaconda3/envs/opt_transport/lib/python3.12/site-packages/torch/serialization.py:445\u001b[0m, in \u001b[0;36m_open_file_like\u001b[0;34m(name_or_buffer, mode)\u001b[0m\n\u001b[1;32m    443\u001b[0m \u001b[38;5;28;01mdef\u001b[39;00m \u001b[38;5;21m_open_file_like\u001b[39m(name_or_buffer, mode):\n\u001b[1;32m    444\u001b[0m     \u001b[38;5;28;01mif\u001b[39;00m _is_path(name_or_buffer):\n\u001b[0;32m--> 445\u001b[0m         \u001b[38;5;28;01mreturn\u001b[39;00m \u001b[43m_open_file\u001b[49m\u001b[43m(\u001b[49m\u001b[43mname_or_buffer\u001b[49m\u001b[43m,\u001b[49m\u001b[43m \u001b[49m\u001b[43mmode\u001b[49m\u001b[43m)\u001b[49m\n\u001b[1;32m    446\u001b[0m     \u001b[38;5;28;01melse\u001b[39;00m:\n\u001b[1;32m    447\u001b[0m         \u001b[38;5;28;01mif\u001b[39;00m \u001b[38;5;124m'\u001b[39m\u001b[38;5;124mw\u001b[39m\u001b[38;5;124m'\u001b[39m \u001b[38;5;129;01min\u001b[39;00m mode:\n",
      "File \u001b[0;32m~/anaconda3/envs/opt_transport/lib/python3.12/site-packages/torch/serialization.py:426\u001b[0m, in \u001b[0;36m_open_file.__init__\u001b[0;34m(self, name, mode)\u001b[0m\n\u001b[1;32m    425\u001b[0m \u001b[38;5;28;01mdef\u001b[39;00m \u001b[38;5;21m__init__\u001b[39m(\u001b[38;5;28mself\u001b[39m, name, mode):\n\u001b[0;32m--> 426\u001b[0m     \u001b[38;5;28msuper\u001b[39m()\u001b[38;5;241m.\u001b[39m\u001b[38;5;21m__init__\u001b[39m(\u001b[38;5;28;43mopen\u001b[39;49m\u001b[43m(\u001b[49m\u001b[43mname\u001b[49m\u001b[43m,\u001b[49m\u001b[43m \u001b[49m\u001b[43mmode\u001b[49m\u001b[43m)\u001b[49m)\n",
      "\u001b[0;31mFileNotFoundError\u001b[0m: [Errno 2] No such file or directory: ' /Users/Lea/Documents/Documents_2/Documents/MVA/S2/BML/Projet/Bayesian_model_comparison/DKL_experiments/saved-outputs/exactdklprotein_ntrain100_cmll_0.1m.pt'"
     ]
    }
   ],
   "source": [
    "import torch\n",
    "torch.load(' /Users/Lea/Documents/Documents_2/Documents/MVA/S2/BML/Projet/Bayesian_model_comparison/DKL_experiments/saved-outputs/exactdklprotein_ntrain100_cmll_0.1m.pt')"
   ]
  },
  {
   "cell_type": "code",
   "execution_count": null,
   "metadata": {},
   "outputs": [],
   "source": []
  }
 ],
 "metadata": {
  "kernelspec": {
   "display_name": "opt_transport",
   "language": "python",
   "name": "python3"
  },
  "language_info": {
   "codemirror_mode": {
    "name": "ipython",
    "version": 3
   },
   "file_extension": ".py",
   "mimetype": "text/x-python",
   "name": "python",
   "nbconvert_exporter": "python",
   "pygments_lexer": "ipython3",
   "version": "3.12.0"
  }
 },
 "nbformat": 4,
 "nbformat_minor": 2
}
